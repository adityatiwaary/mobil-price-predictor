{
 "cells": [
  {
   "cell_type": "code",
   "execution_count": 5,
   "id": "b2db623c",
   "metadata": {},
   "outputs": [
    {
     "name": "stdout",
     "output_type": "stream",
     "text": [
      "Requirement already satisfied: matplotlib in c:\\python312\\lib\\site-packages (3.8.3)\n",
      "Requirement already satisfied: contourpy>=1.0.1 in c:\\python312\\lib\\site-packages (from matplotlib) (1.2.0)\n",
      "Requirement already satisfied: cycler>=0.10 in c:\\python312\\lib\\site-packages (from matplotlib) (0.12.1)\n",
      "Requirement already satisfied: fonttools>=4.22.0 in c:\\python312\\lib\\site-packages (from matplotlib) (4.49.0)\n",
      "Requirement already satisfied: kiwisolver>=1.3.1 in c:\\python312\\lib\\site-packages (from matplotlib) (1.4.5)\n",
      "Requirement already satisfied: numpy<2,>=1.21 in c:\\python312\\lib\\site-packages (from matplotlib) (1.26.4)\n",
      "Requirement already satisfied: packaging>=20.0 in c:\\python312\\lib\\site-packages (from matplotlib) (23.2)\n",
      "Requirement already satisfied: pillow>=8 in c:\\python312\\lib\\site-packages (from matplotlib) (10.2.0)\n",
      "Requirement already satisfied: pyparsing>=2.3.1 in c:\\python312\\lib\\site-packages (from matplotlib) (3.1.2)\n",
      "Requirement already satisfied: python-dateutil>=2.7 in c:\\python312\\lib\\site-packages (from matplotlib) (2.9.0.post0)\n",
      "Requirement already satisfied: six>=1.5 in c:\\python312\\lib\\site-packages (from python-dateutil>=2.7->matplotlib) (1.16.0)\n",
      "Note: you may need to restart the kernel to use updated packages.\n"
     ]
    }
   ],
   "source": [
    "pip install matplotlib"
   ]
  },
  {
   "cell_type": "code",
   "execution_count": 6,
   "id": "e46a4a7e",
   "metadata": {},
   "outputs": [
    {
     "data": {
      "text/html": [
       "<div>\n",
       "<style scoped>\n",
       "    .dataframe tbody tr th:only-of-type {\n",
       "        vertical-align: middle;\n",
       "    }\n",
       "\n",
       "    .dataframe tbody tr th {\n",
       "        vertical-align: top;\n",
       "    }\n",
       "\n",
       "    .dataframe thead th {\n",
       "        text-align: right;\n",
       "    }\n",
       "</style>\n",
       "<table border=\"1\" class=\"dataframe\">\n",
       "  <thead>\n",
       "    <tr style=\"text-align: right;\">\n",
       "      <th></th>\n",
       "      <th>RAM</th>\n",
       "      <th>Storage</th>\n",
       "      <th>Display</th>\n",
       "      <th>Camera</th>\n",
       "      <th>Battery</th>\n",
       "      <th>Weight</th>\n",
       "      <th>Thickness</th>\n",
       "      <th>Screen-to-Body Ratio</th>\n",
       "      <th>Price_Range</th>\n",
       "      <th>Processor_Speed</th>\n",
       "      <th>Front_Camera</th>\n",
       "      <th>Battery_Life</th>\n",
       "      <th>Price</th>\n",
       "      <th>Phone_Company</th>\n",
       "    </tr>\n",
       "  </thead>\n",
       "  <tbody>\n",
       "    <tr>\n",
       "      <th>0</th>\n",
       "      <td>8</td>\n",
       "      <td>256</td>\n",
       "      <td>5.4</td>\n",
       "      <td>13.0</td>\n",
       "      <td>5000.0</td>\n",
       "      <td>164.3</td>\n",
       "      <td>6.7</td>\n",
       "      <td>89.5</td>\n",
       "      <td>Mid-Range</td>\n",
       "      <td>2.723417</td>\n",
       "      <td>12.0</td>\n",
       "      <td>28.3</td>\n",
       "      <td>52388</td>\n",
       "      <td>Samsung</td>\n",
       "    </tr>\n",
       "    <tr>\n",
       "      <th>1</th>\n",
       "      <td>12</td>\n",
       "      <td>256</td>\n",
       "      <td>6.0</td>\n",
       "      <td>44.0</td>\n",
       "      <td>4000.0</td>\n",
       "      <td>112.4</td>\n",
       "      <td>7.9</td>\n",
       "      <td>90.7</td>\n",
       "      <td>High-End</td>\n",
       "      <td>3.009767</td>\n",
       "      <td>5.0</td>\n",
       "      <td>13.3</td>\n",
       "      <td>45678</td>\n",
       "      <td>Sony</td>\n",
       "    </tr>\n",
       "    <tr>\n",
       "      <th>2</th>\n",
       "      <td>14</td>\n",
       "      <td>256</td>\n",
       "      <td>5.6</td>\n",
       "      <td>46.0</td>\n",
       "      <td>3300.0</td>\n",
       "      <td>207.0</td>\n",
       "      <td>11.2</td>\n",
       "      <td>83.3</td>\n",
       "      <td>Budget</td>\n",
       "      <td>2.165280</td>\n",
       "      <td>8.0</td>\n",
       "      <td>24.3</td>\n",
       "      <td>40302</td>\n",
       "      <td>Sony</td>\n",
       "    </tr>\n",
       "    <tr>\n",
       "      <th>3</th>\n",
       "      <td>13</td>\n",
       "      <td>64</td>\n",
       "      <td>6.0</td>\n",
       "      <td>21.0</td>\n",
       "      <td>3300.0</td>\n",
       "      <td>115.8</td>\n",
       "      <td>10.1</td>\n",
       "      <td>96.8</td>\n",
       "      <td>Budget</td>\n",
       "      <td>1.809457</td>\n",
       "      <td>8.0</td>\n",
       "      <td>23.2</td>\n",
       "      <td>31790</td>\n",
       "      <td>OnePlus</td>\n",
       "    </tr>\n",
       "    <tr>\n",
       "      <th>4</th>\n",
       "      <td>8</td>\n",
       "      <td>128</td>\n",
       "      <td>5.8</td>\n",
       "      <td>21.0</td>\n",
       "      <td>4000.0</td>\n",
       "      <td>198.9</td>\n",
       "      <td>6.4</td>\n",
       "      <td>91.7</td>\n",
       "      <td>High-End</td>\n",
       "      <td>1.914318</td>\n",
       "      <td>8.0</td>\n",
       "      <td>25.7</td>\n",
       "      <td>39204</td>\n",
       "      <td>OnePlus</td>\n",
       "    </tr>\n",
       "  </tbody>\n",
       "</table>\n",
       "</div>"
      ],
      "text/plain": [
       "   RAM  Storage  Display  Camera  Battery  Weight  Thickness  \\\n",
       "0    8      256      5.4    13.0   5000.0   164.3        6.7   \n",
       "1   12      256      6.0    44.0   4000.0   112.4        7.9   \n",
       "2   14      256      5.6    46.0   3300.0   207.0       11.2   \n",
       "3   13       64      6.0    21.0   3300.0   115.8       10.1   \n",
       "4    8      128      5.8    21.0   4000.0   198.9        6.4   \n",
       "\n",
       "   Screen-to-Body Ratio Price_Range  Processor_Speed  Front_Camera  \\\n",
       "0                  89.5   Mid-Range         2.723417          12.0   \n",
       "1                  90.7    High-End         3.009767           5.0   \n",
       "2                  83.3      Budget         2.165280           8.0   \n",
       "3                  96.8      Budget         1.809457           8.0   \n",
       "4                  91.7    High-End         1.914318           8.0   \n",
       "\n",
       "   Battery_Life  Price Phone_Company  \n",
       "0          28.3  52388       Samsung  \n",
       "1          13.3  45678          Sony  \n",
       "2          24.3  40302          Sony  \n",
       "3          23.2  31790       OnePlus  \n",
       "4          25.7  39204       OnePlus  "
      ]
     },
     "execution_count": 6,
     "metadata": {},
     "output_type": "execute_result"
    }
   ],
   "source": [
    "import pandas as pd\n",
    "import numpy as np\n",
    "from matplotlib import pyplot as plt\n",
    "%matplotlib inline\n",
    "import matplotlib \n",
    "matplotlib.rcParams[\"figure.figsize\"] = (20,10)\n",
    "df1 = pd.read_csv(\"ravi.csv\")\n",
    "df1.head()"
   ]
  },
  {
   "cell_type": "code",
   "execution_count": 7,
   "id": "529259fd",
   "metadata": {},
   "outputs": [
    {
     "data": {
      "text/plain": [
       "(124700, 14)"
      ]
     },
     "execution_count": 7,
     "metadata": {},
     "output_type": "execute_result"
    }
   ],
   "source": [
    "df1.shape"
   ]
  },
  {
   "cell_type": "code",
   "execution_count": 8,
   "id": "c0483c39",
   "metadata": {},
   "outputs": [
    {
     "data": {
      "text/plain": [
       "Price_Range\n",
       "Budget       41334\n",
       "High-End     41673\n",
       "Mid-Range    41677\n",
       "Name: Price_Range, dtype: int64"
      ]
     },
     "execution_count": 8,
     "metadata": {},
     "output_type": "execute_result"
    }
   ],
   "source": [
    "df1.groupby('Price_Range')['Price_Range'].agg('count')"
   ]
  },
  {
   "cell_type": "markdown",
   "id": "2998ffce",
   "metadata": {},
   "source": [
    "# Removing unnecesary specifications that do not affect price"
   ]
  },
  {
   "cell_type": "code",
   "execution_count": 9,
   "id": "889ac596",
   "metadata": {},
   "outputs": [
    {
     "data": {
      "text/html": [
       "<div>\n",
       "<style scoped>\n",
       "    .dataframe tbody tr th:only-of-type {\n",
       "        vertical-align: middle;\n",
       "    }\n",
       "\n",
       "    .dataframe tbody tr th {\n",
       "        vertical-align: top;\n",
       "    }\n",
       "\n",
       "    .dataframe thead th {\n",
       "        text-align: right;\n",
       "    }\n",
       "</style>\n",
       "<table border=\"1\" class=\"dataframe\">\n",
       "  <thead>\n",
       "    <tr style=\"text-align: right;\">\n",
       "      <th></th>\n",
       "      <th>RAM</th>\n",
       "      <th>Storage</th>\n",
       "      <th>Display</th>\n",
       "      <th>Camera</th>\n",
       "      <th>Battery</th>\n",
       "      <th>Screen-to-Body Ratio</th>\n",
       "      <th>Price_Range</th>\n",
       "      <th>Processor_Speed</th>\n",
       "      <th>Front_Camera</th>\n",
       "      <th>Battery_Life</th>\n",
       "      <th>Price</th>\n",
       "      <th>Phone_Company</th>\n",
       "    </tr>\n",
       "  </thead>\n",
       "  <tbody>\n",
       "    <tr>\n",
       "      <th>0</th>\n",
       "      <td>8</td>\n",
       "      <td>256</td>\n",
       "      <td>5.4</td>\n",
       "      <td>13.0</td>\n",
       "      <td>5000.0</td>\n",
       "      <td>89.5</td>\n",
       "      <td>Mid-Range</td>\n",
       "      <td>2.723417</td>\n",
       "      <td>12.0</td>\n",
       "      <td>28.3</td>\n",
       "      <td>52388</td>\n",
       "      <td>Samsung</td>\n",
       "    </tr>\n",
       "    <tr>\n",
       "      <th>1</th>\n",
       "      <td>12</td>\n",
       "      <td>256</td>\n",
       "      <td>6.0</td>\n",
       "      <td>44.0</td>\n",
       "      <td>4000.0</td>\n",
       "      <td>90.7</td>\n",
       "      <td>High-End</td>\n",
       "      <td>3.009767</td>\n",
       "      <td>5.0</td>\n",
       "      <td>13.3</td>\n",
       "      <td>45678</td>\n",
       "      <td>Sony</td>\n",
       "    </tr>\n",
       "    <tr>\n",
       "      <th>2</th>\n",
       "      <td>14</td>\n",
       "      <td>256</td>\n",
       "      <td>5.6</td>\n",
       "      <td>46.0</td>\n",
       "      <td>3300.0</td>\n",
       "      <td>83.3</td>\n",
       "      <td>Budget</td>\n",
       "      <td>2.165280</td>\n",
       "      <td>8.0</td>\n",
       "      <td>24.3</td>\n",
       "      <td>40302</td>\n",
       "      <td>Sony</td>\n",
       "    </tr>\n",
       "    <tr>\n",
       "      <th>3</th>\n",
       "      <td>13</td>\n",
       "      <td>64</td>\n",
       "      <td>6.0</td>\n",
       "      <td>21.0</td>\n",
       "      <td>3300.0</td>\n",
       "      <td>96.8</td>\n",
       "      <td>Budget</td>\n",
       "      <td>1.809457</td>\n",
       "      <td>8.0</td>\n",
       "      <td>23.2</td>\n",
       "      <td>31790</td>\n",
       "      <td>OnePlus</td>\n",
       "    </tr>\n",
       "    <tr>\n",
       "      <th>4</th>\n",
       "      <td>8</td>\n",
       "      <td>128</td>\n",
       "      <td>5.8</td>\n",
       "      <td>21.0</td>\n",
       "      <td>4000.0</td>\n",
       "      <td>91.7</td>\n",
       "      <td>High-End</td>\n",
       "      <td>1.914318</td>\n",
       "      <td>8.0</td>\n",
       "      <td>25.7</td>\n",
       "      <td>39204</td>\n",
       "      <td>OnePlus</td>\n",
       "    </tr>\n",
       "  </tbody>\n",
       "</table>\n",
       "</div>"
      ],
      "text/plain": [
       "   RAM  Storage  Display  Camera  Battery  Screen-to-Body Ratio Price_Range  \\\n",
       "0    8      256      5.4    13.0   5000.0                  89.5   Mid-Range   \n",
       "1   12      256      6.0    44.0   4000.0                  90.7    High-End   \n",
       "2   14      256      5.6    46.0   3300.0                  83.3      Budget   \n",
       "3   13       64      6.0    21.0   3300.0                  96.8      Budget   \n",
       "4    8      128      5.8    21.0   4000.0                  91.7    High-End   \n",
       "\n",
       "   Processor_Speed  Front_Camera  Battery_Life  Price Phone_Company  \n",
       "0         2.723417          12.0          28.3  52388       Samsung  \n",
       "1         3.009767           5.0          13.3  45678          Sony  \n",
       "2         2.165280           8.0          24.3  40302          Sony  \n",
       "3         1.809457           8.0          23.2  31790       OnePlus  \n",
       "4         1.914318           8.0          25.7  39204       OnePlus  "
      ]
     },
     "execution_count": 9,
     "metadata": {},
     "output_type": "execute_result"
    }
   ],
   "source": [
    "df2 = df1.drop(['Thickness','Weight'],axis='columns')\n",
    "df2.head()"
   ]
  },
  {
   "cell_type": "code",
   "execution_count": 10,
   "id": "4764cbb2",
   "metadata": {},
   "outputs": [
    {
     "data": {
      "text/plain": [
       "RAM                      0\n",
       "Storage                  0\n",
       "Display                  0\n",
       "Camera                  11\n",
       "Battery                 27\n",
       "Screen-to-Body Ratio    12\n",
       "Price_Range             16\n",
       "Processor_Speed          0\n",
       "Front_Camera            13\n",
       "Battery_Life             0\n",
       "Price                    0\n",
       "Phone_Company            0\n",
       "dtype: int64"
      ]
     },
     "execution_count": 10,
     "metadata": {},
     "output_type": "execute_result"
    }
   ],
   "source": [
    "df2.isnull().sum()"
   ]
  },
  {
   "cell_type": "code",
   "execution_count": 11,
   "id": "fa034cc8",
   "metadata": {},
   "outputs": [
    {
     "data": {
      "text/plain": [
       "RAM                     0\n",
       "Storage                 0\n",
       "Display                 0\n",
       "Camera                  0\n",
       "Battery                 0\n",
       "Screen-to-Body Ratio    0\n",
       "Price_Range             0\n",
       "Processor_Speed         0\n",
       "Front_Camera            0\n",
       "Battery_Life            0\n",
       "Price                   0\n",
       "Phone_Company           0\n",
       "dtype: int64"
      ]
     },
     "execution_count": 11,
     "metadata": {},
     "output_type": "execute_result"
    }
   ],
   "source": [
    "df3 = df2.dropna()\n",
    "df3.isnull().sum()"
   ]
  },
  {
   "cell_type": "code",
   "execution_count": 12,
   "id": "6970d634",
   "metadata": {},
   "outputs": [
    {
     "data": {
      "text/plain": [
       "(124621, 12)"
      ]
     },
     "execution_count": 12,
     "metadata": {},
     "output_type": "execute_result"
    }
   ],
   "source": [
    "df3.shape"
   ]
  },
  {
   "cell_type": "code",
   "execution_count": 13,
   "id": "bcb08263",
   "metadata": {},
   "outputs": [
    {
     "data": {
      "text/plain": [
       "array([ 5000.,  4000.,  3300.,  4500.,  3000., 10000.,  8000.])"
      ]
     },
     "execution_count": 13,
     "metadata": {},
     "output_type": "execute_result"
    }
   ],
   "source": [
    "df3['Battery'].unique()"
   ]
  },
  {
   "cell_type": "code",
   "execution_count": 14,
   "id": "be7c50a1",
   "metadata": {},
   "outputs": [
    {
     "data": {
      "text/html": [
       "<div>\n",
       "<style scoped>\n",
       "    .dataframe tbody tr th:only-of-type {\n",
       "        vertical-align: middle;\n",
       "    }\n",
       "\n",
       "    .dataframe tbody tr th {\n",
       "        vertical-align: top;\n",
       "    }\n",
       "\n",
       "    .dataframe thead th {\n",
       "        text-align: right;\n",
       "    }\n",
       "</style>\n",
       "<table border=\"1\" class=\"dataframe\">\n",
       "  <thead>\n",
       "    <tr style=\"text-align: right;\">\n",
       "      <th></th>\n",
       "      <th>RAM</th>\n",
       "      <th>Storage</th>\n",
       "      <th>Display</th>\n",
       "      <th>Camera</th>\n",
       "      <th>Battery</th>\n",
       "      <th>Screen-to-Body Ratio</th>\n",
       "      <th>Price_Range</th>\n",
       "      <th>Processor_Speed</th>\n",
       "      <th>Front_Camera</th>\n",
       "      <th>Battery_Life</th>\n",
       "      <th>Price</th>\n",
       "      <th>Phone_Company</th>\n",
       "    </tr>\n",
       "  </thead>\n",
       "  <tbody>\n",
       "    <tr>\n",
       "      <th>3151</th>\n",
       "      <td>4</td>\n",
       "      <td>256</td>\n",
       "      <td>5.9</td>\n",
       "      <td>50.0</td>\n",
       "      <td>10000.0</td>\n",
       "      <td>93.9</td>\n",
       "      <td>High-End</td>\n",
       "      <td>1.835298</td>\n",
       "      <td>16.0</td>\n",
       "      <td>28.3</td>\n",
       "      <td>36404</td>\n",
       "      <td>OnePlus</td>\n",
       "    </tr>\n",
       "    <tr>\n",
       "      <th>3961</th>\n",
       "      <td>11</td>\n",
       "      <td>32</td>\n",
       "      <td>5.7</td>\n",
       "      <td>38.0</td>\n",
       "      <td>8000.0</td>\n",
       "      <td>87.1</td>\n",
       "      <td>Budget</td>\n",
       "      <td>2.255572</td>\n",
       "      <td>5.0</td>\n",
       "      <td>31.4</td>\n",
       "      <td>30816</td>\n",
       "      <td>Vivo</td>\n",
       "    </tr>\n",
       "  </tbody>\n",
       "</table>\n",
       "</div>"
      ],
      "text/plain": [
       "      RAM  Storage  Display  Camera  Battery  Screen-to-Body Ratio  \\\n",
       "3151    4      256      5.9    50.0  10000.0                  93.9   \n",
       "3961   11       32      5.7    38.0   8000.0                  87.1   \n",
       "\n",
       "     Price_Range  Processor_Speed  Front_Camera  Battery_Life  Price  \\\n",
       "3151    High-End         1.835298          16.0          28.3  36404   \n",
       "3961      Budget         2.255572           5.0          31.4  30816   \n",
       "\n",
       "     Phone_Company  \n",
       "3151       OnePlus  \n",
       "3961          Vivo  "
      ]
     },
     "execution_count": 14,
     "metadata": {},
     "output_type": "execute_result"
    }
   ],
   "source": [
    "df3[df3.Battery>6000]"
   ]
  },
  {
   "cell_type": "code",
   "execution_count": 15,
   "id": "a07ca310",
   "metadata": {},
   "outputs": [
    {
     "name": "stderr",
     "output_type": "stream",
     "text": [
      "C:\\Users\\Lenovo\\AppData\\Local\\Temp\\ipykernel_19592\\489304460.py:2: SettingWithCopyWarning: \n",
      "A value is trying to be set on a copy of a slice from a DataFrame\n",
      "\n",
      "See the caveats in the documentation: https://pandas.pydata.org/pandas-docs/stable/user_guide/indexing.html#returning-a-view-versus-a-copy\n",
      "  df4 = df3.drop(df3[df3['Battery']>6000 ].index, inplace = True)\n"
     ]
    }
   ],
   "source": [
    "# 10000 mAh and 8000 mAh battery won't be feasible in real world\n",
    "df4 = df3.drop(df3[df3['Battery']>6000 ].index, inplace = True)"
   ]
  },
  {
   "cell_type": "code",
   "execution_count": 16,
   "id": "ff095a88",
   "metadata": {},
   "outputs": [
    {
     "data": {
      "text/html": [
       "<div>\n",
       "<style scoped>\n",
       "    .dataframe tbody tr th:only-of-type {\n",
       "        vertical-align: middle;\n",
       "    }\n",
       "\n",
       "    .dataframe tbody tr th {\n",
       "        vertical-align: top;\n",
       "    }\n",
       "\n",
       "    .dataframe thead th {\n",
       "        text-align: right;\n",
       "    }\n",
       "</style>\n",
       "<table border=\"1\" class=\"dataframe\">\n",
       "  <thead>\n",
       "    <tr style=\"text-align: right;\">\n",
       "      <th></th>\n",
       "      <th>RAM</th>\n",
       "      <th>Storage</th>\n",
       "      <th>Display</th>\n",
       "      <th>Camera</th>\n",
       "      <th>Battery</th>\n",
       "      <th>Screen-to-Body Ratio</th>\n",
       "      <th>Price_Range</th>\n",
       "      <th>Processor_Speed</th>\n",
       "      <th>Front_Camera</th>\n",
       "      <th>Battery_Life</th>\n",
       "      <th>Price</th>\n",
       "      <th>Phone_Company</th>\n",
       "    </tr>\n",
       "  </thead>\n",
       "  <tbody>\n",
       "  </tbody>\n",
       "</table>\n",
       "</div>"
      ],
      "text/plain": [
       "Empty DataFrame\n",
       "Columns: [RAM, Storage, Display, Camera, Battery, Screen-to-Body Ratio, Price_Range, Processor_Speed, Front_Camera, Battery_Life, Price, Phone_Company]\n",
       "Index: []"
      ]
     },
     "execution_count": 16,
     "metadata": {},
     "output_type": "execute_result"
    }
   ],
   "source": [
    "# checking\n",
    "df3[df3.Battery>6000]"
   ]
  },
  {
   "cell_type": "code",
   "execution_count": 17,
   "id": "a348482d",
   "metadata": {},
   "outputs": [
    {
     "data": {
      "text/plain": [
       "array([13., 44., 46., 21., 36., 30., 53., 48., 25., 55., 10., 42., 32.,\n",
       "       40.,  8., 49., 19., 34., 28., 51., 24., 23., 29., 11., 39., 15.,\n",
       "       26., 31., 27., 47.,  9., 45., 20., 37., 41., 43., 52., 14., 33.,\n",
       "       12., 35., 22., 17., 50., 18., 16., 54., 38.])"
      ]
     },
     "execution_count": 17,
     "metadata": {},
     "output_type": "execute_result"
    }
   ],
   "source": [
    "df3.Camera.unique()"
   ]
  },
  {
   "cell_type": "code",
   "execution_count": 18,
   "id": "299f850f",
   "metadata": {},
   "outputs": [
    {
     "data": {
      "text/html": [
       "<div>\n",
       "<style scoped>\n",
       "    .dataframe tbody tr th:only-of-type {\n",
       "        vertical-align: middle;\n",
       "    }\n",
       "\n",
       "    .dataframe tbody tr th {\n",
       "        vertical-align: top;\n",
       "    }\n",
       "\n",
       "    .dataframe thead th {\n",
       "        text-align: right;\n",
       "    }\n",
       "</style>\n",
       "<table border=\"1\" class=\"dataframe\">\n",
       "  <thead>\n",
       "    <tr style=\"text-align: right;\">\n",
       "      <th></th>\n",
       "      <th>RAM</th>\n",
       "      <th>Storage</th>\n",
       "      <th>Display</th>\n",
       "      <th>Camera</th>\n",
       "      <th>Battery</th>\n",
       "      <th>Screen-to-Body Ratio</th>\n",
       "      <th>Price_Range</th>\n",
       "      <th>Processor_Speed</th>\n",
       "      <th>Front_Camera</th>\n",
       "      <th>Battery_Life</th>\n",
       "      <th>Price</th>\n",
       "      <th>Phone_Company</th>\n",
       "      <th>memory_per_processor_cycle</th>\n",
       "    </tr>\n",
       "  </thead>\n",
       "  <tbody>\n",
       "    <tr>\n",
       "      <th>0</th>\n",
       "      <td>8</td>\n",
       "      <td>256</td>\n",
       "      <td>5.4</td>\n",
       "      <td>13.0</td>\n",
       "      <td>5000.0</td>\n",
       "      <td>89.5</td>\n",
       "      <td>Mid-Range</td>\n",
       "      <td>2.723417</td>\n",
       "      <td>12.0</td>\n",
       "      <td>28.3</td>\n",
       "      <td>52388</td>\n",
       "      <td>Samsung</td>\n",
       "      <td>9.399955e+06</td>\n",
       "    </tr>\n",
       "    <tr>\n",
       "      <th>1</th>\n",
       "      <td>12</td>\n",
       "      <td>256</td>\n",
       "      <td>6.0</td>\n",
       "      <td>44.0</td>\n",
       "      <td>4000.0</td>\n",
       "      <td>90.7</td>\n",
       "      <td>High-End</td>\n",
       "      <td>3.009767</td>\n",
       "      <td>5.0</td>\n",
       "      <td>13.3</td>\n",
       "      <td>45678</td>\n",
       "      <td>Sony</td>\n",
       "      <td>8.505641e+06</td>\n",
       "    </tr>\n",
       "    <tr>\n",
       "      <th>2</th>\n",
       "      <td>14</td>\n",
       "      <td>256</td>\n",
       "      <td>5.6</td>\n",
       "      <td>46.0</td>\n",
       "      <td>3300.0</td>\n",
       "      <td>83.3</td>\n",
       "      <td>Budget</td>\n",
       "      <td>2.165280</td>\n",
       "      <td>8.0</td>\n",
       "      <td>24.3</td>\n",
       "      <td>40302</td>\n",
       "      <td>Sony</td>\n",
       "      <td>1.182295e+07</td>\n",
       "    </tr>\n",
       "    <tr>\n",
       "      <th>3</th>\n",
       "      <td>13</td>\n",
       "      <td>64</td>\n",
       "      <td>6.0</td>\n",
       "      <td>21.0</td>\n",
       "      <td>3300.0</td>\n",
       "      <td>96.8</td>\n",
       "      <td>Budget</td>\n",
       "      <td>1.809457</td>\n",
       "      <td>8.0</td>\n",
       "      <td>23.2</td>\n",
       "      <td>31790</td>\n",
       "      <td>OnePlus</td>\n",
       "      <td>3.536972e+06</td>\n",
       "    </tr>\n",
       "    <tr>\n",
       "      <th>4</th>\n",
       "      <td>8</td>\n",
       "      <td>128</td>\n",
       "      <td>5.8</td>\n",
       "      <td>21.0</td>\n",
       "      <td>4000.0</td>\n",
       "      <td>91.7</td>\n",
       "      <td>High-End</td>\n",
       "      <td>1.914318</td>\n",
       "      <td>8.0</td>\n",
       "      <td>25.7</td>\n",
       "      <td>39204</td>\n",
       "      <td>OnePlus</td>\n",
       "      <td>6.686456e+06</td>\n",
       "    </tr>\n",
       "  </tbody>\n",
       "</table>\n",
       "</div>"
      ],
      "text/plain": [
       "   RAM  Storage  Display  Camera  Battery  Screen-to-Body Ratio Price_Range  \\\n",
       "0    8      256      5.4    13.0   5000.0                  89.5   Mid-Range   \n",
       "1   12      256      6.0    44.0   4000.0                  90.7    High-End   \n",
       "2   14      256      5.6    46.0   3300.0                  83.3      Budget   \n",
       "3   13       64      6.0    21.0   3300.0                  96.8      Budget   \n",
       "4    8      128      5.8    21.0   4000.0                  91.7    High-End   \n",
       "\n",
       "   Processor_Speed  Front_Camera  Battery_Life  Price Phone_Company  \\\n",
       "0         2.723417          12.0          28.3  52388       Samsung   \n",
       "1         3.009767           5.0          13.3  45678          Sony   \n",
       "2         2.165280           8.0          24.3  40302          Sony   \n",
       "3         1.809457           8.0          23.2  31790       OnePlus   \n",
       "4         1.914318           8.0          25.7  39204       OnePlus   \n",
       "\n",
       "   memory_per_processor_cycle  \n",
       "0                9.399955e+06  \n",
       "1                8.505641e+06  \n",
       "2                1.182295e+07  \n",
       "3                3.536972e+06  \n",
       "4                6.686456e+06  "
      ]
     },
     "execution_count": 18,
     "metadata": {},
     "output_type": "execute_result"
    }
   ],
   "source": [
    "df5 = df3.copy()\n",
    "df5['memory_per_processor_cycle'] = df5['Storage']*100000/df5['Processor_Speed']\n",
    "df5.head()"
   ]
  },
  {
   "cell_type": "code",
   "execution_count": 19,
   "id": "892b0582",
   "metadata": {},
   "outputs": [
    {
     "data": {
      "text/html": [
       "<div>\n",
       "<style scoped>\n",
       "    .dataframe tbody tr th:only-of-type {\n",
       "        vertical-align: middle;\n",
       "    }\n",
       "\n",
       "    .dataframe tbody tr th {\n",
       "        vertical-align: top;\n",
       "    }\n",
       "\n",
       "    .dataframe thead th {\n",
       "        text-align: right;\n",
       "    }\n",
       "</style>\n",
       "<table border=\"1\" class=\"dataframe\">\n",
       "  <thead>\n",
       "    <tr style=\"text-align: right;\">\n",
       "      <th></th>\n",
       "      <th>RAM</th>\n",
       "      <th>Storage</th>\n",
       "      <th>Display</th>\n",
       "      <th>Camera</th>\n",
       "      <th>Battery</th>\n",
       "      <th>Screen-to-Body Ratio</th>\n",
       "      <th>Price_Range</th>\n",
       "      <th>Processor_Speed</th>\n",
       "      <th>Front_Camera</th>\n",
       "      <th>Battery_Life</th>\n",
       "      <th>Price</th>\n",
       "      <th>Phone_Company</th>\n",
       "      <th>memory_per_processor_cycle</th>\n",
       "    </tr>\n",
       "  </thead>\n",
       "  <tbody>\n",
       "    <tr>\n",
       "      <th>197</th>\n",
       "      <td>15</td>\n",
       "      <td>32</td>\n",
       "      <td>5.7</td>\n",
       "      <td>27.0</td>\n",
       "      <td>5000.0</td>\n",
       "      <td>83.6</td>\n",
       "      <td>Mid-Range</td>\n",
       "      <td>2.006377</td>\n",
       "      <td>16.0</td>\n",
       "      <td>28.0</td>\n",
       "      <td>44784</td>\n",
       "      <td>Sony</td>\n",
       "      <td>1.594915e+06</td>\n",
       "    </tr>\n",
       "    <tr>\n",
       "      <th>249</th>\n",
       "      <td>15</td>\n",
       "      <td>32</td>\n",
       "      <td>5.1</td>\n",
       "      <td>18.0</td>\n",
       "      <td>5000.0</td>\n",
       "      <td>91.7</td>\n",
       "      <td>Budget</td>\n",
       "      <td>1.715586</td>\n",
       "      <td>12.0</td>\n",
       "      <td>14.5</td>\n",
       "      <td>44431</td>\n",
       "      <td>Vivo</td>\n",
       "      <td>1.865252e+06</td>\n",
       "    </tr>\n",
       "    <tr>\n",
       "      <th>329</th>\n",
       "      <td>15</td>\n",
       "      <td>32</td>\n",
       "      <td>5.6</td>\n",
       "      <td>15.0</td>\n",
       "      <td>3300.0</td>\n",
       "      <td>96.4</td>\n",
       "      <td>Mid-Range</td>\n",
       "      <td>2.369850</td>\n",
       "      <td>12.0</td>\n",
       "      <td>24.7</td>\n",
       "      <td>30947</td>\n",
       "      <td>Oppo</td>\n",
       "      <td>1.350296e+06</td>\n",
       "    </tr>\n",
       "    <tr>\n",
       "      <th>354</th>\n",
       "      <td>15</td>\n",
       "      <td>32</td>\n",
       "      <td>6.7</td>\n",
       "      <td>35.0</td>\n",
       "      <td>5000.0</td>\n",
       "      <td>93.0</td>\n",
       "      <td>Budget</td>\n",
       "      <td>2.706835</td>\n",
       "      <td>5.0</td>\n",
       "      <td>32.6</td>\n",
       "      <td>44951</td>\n",
       "      <td>Google</td>\n",
       "      <td>1.182192e+06</td>\n",
       "    </tr>\n",
       "    <tr>\n",
       "      <th>356</th>\n",
       "      <td>15</td>\n",
       "      <td>32</td>\n",
       "      <td>6.4</td>\n",
       "      <td>40.0</td>\n",
       "      <td>4000.0</td>\n",
       "      <td>80.7</td>\n",
       "      <td>High-End</td>\n",
       "      <td>2.386125</td>\n",
       "      <td>16.0</td>\n",
       "      <td>29.6</td>\n",
       "      <td>36827</td>\n",
       "      <td>Huawei</td>\n",
       "      <td>1.341087e+06</td>\n",
       "    </tr>\n",
       "    <tr>\n",
       "      <th>...</th>\n",
       "      <td>...</td>\n",
       "      <td>...</td>\n",
       "      <td>...</td>\n",
       "      <td>...</td>\n",
       "      <td>...</td>\n",
       "      <td>...</td>\n",
       "      <td>...</td>\n",
       "      <td>...</td>\n",
       "      <td>...</td>\n",
       "      <td>...</td>\n",
       "      <td>...</td>\n",
       "      <td>...</td>\n",
       "      <td>...</td>\n",
       "    </tr>\n",
       "    <tr>\n",
       "      <th>124403</th>\n",
       "      <td>15</td>\n",
       "      <td>32</td>\n",
       "      <td>5.4</td>\n",
       "      <td>28.0</td>\n",
       "      <td>3300.0</td>\n",
       "      <td>86.6</td>\n",
       "      <td>High-End</td>\n",
       "      <td>2.861270</td>\n",
       "      <td>5.0</td>\n",
       "      <td>27.1</td>\n",
       "      <td>31210</td>\n",
       "      <td>Sony</td>\n",
       "      <td>1.118385e+06</td>\n",
       "    </tr>\n",
       "    <tr>\n",
       "      <th>124437</th>\n",
       "      <td>15</td>\n",
       "      <td>32</td>\n",
       "      <td>6.1</td>\n",
       "      <td>46.0</td>\n",
       "      <td>4000.0</td>\n",
       "      <td>89.0</td>\n",
       "      <td>High-End</td>\n",
       "      <td>2.701377</td>\n",
       "      <td>8.0</td>\n",
       "      <td>12.8</td>\n",
       "      <td>37212</td>\n",
       "      <td>Xiaomi</td>\n",
       "      <td>1.184581e+06</td>\n",
       "    </tr>\n",
       "    <tr>\n",
       "      <th>124438</th>\n",
       "      <td>15</td>\n",
       "      <td>32</td>\n",
       "      <td>6.6</td>\n",
       "      <td>28.0</td>\n",
       "      <td>3300.0</td>\n",
       "      <td>96.2</td>\n",
       "      <td>Budget</td>\n",
       "      <td>3.331437</td>\n",
       "      <td>5.0</td>\n",
       "      <td>26.8</td>\n",
       "      <td>31065</td>\n",
       "      <td>Vivo</td>\n",
       "      <td>9.605466e+05</td>\n",
       "    </tr>\n",
       "    <tr>\n",
       "      <th>124450</th>\n",
       "      <td>15</td>\n",
       "      <td>32</td>\n",
       "      <td>6.4</td>\n",
       "      <td>19.0</td>\n",
       "      <td>4500.0</td>\n",
       "      <td>90.0</td>\n",
       "      <td>High-End</td>\n",
       "      <td>2.189343</td>\n",
       "      <td>16.0</td>\n",
       "      <td>24.0</td>\n",
       "      <td>40398</td>\n",
       "      <td>Huawei</td>\n",
       "      <td>1.461625e+06</td>\n",
       "    </tr>\n",
       "    <tr>\n",
       "      <th>124579</th>\n",
       "      <td>15</td>\n",
       "      <td>32</td>\n",
       "      <td>6.0</td>\n",
       "      <td>35.0</td>\n",
       "      <td>5000.0</td>\n",
       "      <td>82.5</td>\n",
       "      <td>Budget</td>\n",
       "      <td>2.700067</td>\n",
       "      <td>5.0</td>\n",
       "      <td>26.1</td>\n",
       "      <td>44892</td>\n",
       "      <td>Samsung</td>\n",
       "      <td>1.185156e+06</td>\n",
       "    </tr>\n",
       "  </tbody>\n",
       "</table>\n",
       "<p>2627 rows × 13 columns</p>\n",
       "</div>"
      ],
      "text/plain": [
       "        RAM  Storage  Display  Camera  Battery  Screen-to-Body Ratio  \\\n",
       "197      15       32      5.7    27.0   5000.0                  83.6   \n",
       "249      15       32      5.1    18.0   5000.0                  91.7   \n",
       "329      15       32      5.6    15.0   3300.0                  96.4   \n",
       "354      15       32      6.7    35.0   5000.0                  93.0   \n",
       "356      15       32      6.4    40.0   4000.0                  80.7   \n",
       "...     ...      ...      ...     ...      ...                   ...   \n",
       "124403   15       32      5.4    28.0   3300.0                  86.6   \n",
       "124437   15       32      6.1    46.0   4000.0                  89.0   \n",
       "124438   15       32      6.6    28.0   3300.0                  96.2   \n",
       "124450   15       32      6.4    19.0   4500.0                  90.0   \n",
       "124579   15       32      6.0    35.0   5000.0                  82.5   \n",
       "\n",
       "       Price_Range  Processor_Speed  Front_Camera  Battery_Life  Price  \\\n",
       "197      Mid-Range         2.006377          16.0          28.0  44784   \n",
       "249         Budget         1.715586          12.0          14.5  44431   \n",
       "329      Mid-Range         2.369850          12.0          24.7  30947   \n",
       "354         Budget         2.706835           5.0          32.6  44951   \n",
       "356       High-End         2.386125          16.0          29.6  36827   \n",
       "...            ...              ...           ...           ...    ...   \n",
       "124403    High-End         2.861270           5.0          27.1  31210   \n",
       "124437    High-End         2.701377           8.0          12.8  37212   \n",
       "124438      Budget         3.331437           5.0          26.8  31065   \n",
       "124450    High-End         2.189343          16.0          24.0  40398   \n",
       "124579      Budget         2.700067           5.0          26.1  44892   \n",
       "\n",
       "       Phone_Company  memory_per_processor_cycle  \n",
       "197             Sony                1.594915e+06  \n",
       "249             Vivo                1.865252e+06  \n",
       "329             Oppo                1.350296e+06  \n",
       "354           Google                1.182192e+06  \n",
       "356           Huawei                1.341087e+06  \n",
       "...              ...                         ...  \n",
       "124403          Sony                1.118385e+06  \n",
       "124437        Xiaomi                1.184581e+06  \n",
       "124438          Vivo                9.605466e+05  \n",
       "124450        Huawei                1.461625e+06  \n",
       "124579       Samsung                1.185156e+06  \n",
       "\n",
       "[2627 rows x 13 columns]"
      ]
     },
     "execution_count": 19,
     "metadata": {},
     "output_type": "execute_result"
    }
   ],
   "source": [
    "df5[df5.Storage/df5.RAM<2.2]\n"
   ]
  },
  {
   "cell_type": "code",
   "execution_count": 20,
   "id": "922bfb88",
   "metadata": {},
   "outputs": [
    {
     "data": {
      "text/plain": [
       "(124619, 13)"
      ]
     },
     "execution_count": 20,
     "metadata": {},
     "output_type": "execute_result"
    }
   ],
   "source": [
    "df5.shape"
   ]
  },
  {
   "cell_type": "code",
   "execution_count": 21,
   "id": "bddf95b5",
   "metadata": {},
   "outputs": [
    {
     "data": {
      "text/plain": [
       "(121992, 13)"
      ]
     },
     "execution_count": 21,
     "metadata": {},
     "output_type": "execute_result"
    }
   ],
   "source": [
    "df6 = df5[~(df5.Storage/df5.RAM<2.2)]\n",
    "df6.shape"
   ]
  },
  {
   "cell_type": "markdown",
   "id": "33449541",
   "metadata": {},
   "source": [
    "# Outlier Removal Using Standard Deviation and Mean"
   ]
  },
  {
   "cell_type": "code",
   "execution_count": 22,
   "id": "af79f645",
   "metadata": {},
   "outputs": [
    {
     "data": {
      "text/plain": [
       "count    1.219920e+05\n",
       "mean     5.163487e+06\n",
       "std      3.958492e+06\n",
       "min      9.142977e+05\n",
       "25%      1.962885e+06\n",
       "50%      3.902439e+06\n",
       "75%      7.737635e+06\n",
       "max      1.706654e+07\n",
       "Name: memory_per_processor_cycle, dtype: float64"
      ]
     },
     "execution_count": 22,
     "metadata": {},
     "output_type": "execute_result"
    }
   ],
   "source": [
    "df6.memory_per_processor_cycle.describe()"
   ]
  },
  {
   "cell_type": "code",
   "execution_count": 23,
   "id": "75a97ec0",
   "metadata": {},
   "outputs": [
    {
     "data": {
      "text/plain": [
       "(114821, 13)"
      ]
     },
     "execution_count": 23,
     "metadata": {},
     "output_type": "execute_result"
    }
   ],
   "source": [
    "def remove_pps_outliers(df):\n",
    "    df_out = pd.DataFrame()\n",
    "    for key, subdf in df.groupby('RAM'):\n",
    "        m = np.mean(subdf.memory_per_processor_cycle)\n",
    "        st = np.std(subdf.memory_per_processor_cycle)\n",
    "        reduced_df = subdf[(subdf.memory_per_processor_cycle>(m-2*st)) & (subdf.memory_per_processor_cycle<=(m+2*st))]\n",
    "        df_out = pd.concat([df_out,reduced_df],ignore_index=True)\n",
    "    return df_out\n",
    "df8 = remove_pps_outliers(df6)\n",
    "df8.shape"
   ]
  },
  {
   "cell_type": "code",
   "execution_count": 24,
   "id": "19b6ff82",
   "metadata": {},
   "outputs": [
    {
     "data": {
      "image/png": "[encoded data removed]",
      "text/plain": [
       "<Figure size 1500x1000 with 1 Axes>"
      ]
     },
     "metadata": {},
     "output_type": "display_data"
    }
   ],
   "source": [
    "def plot_scatter_chart(df,Price_Range):\n",
    "    Storage128 = df[(df.Price_Range==Price_Range) & (df.Storage==128)]\n",
    "    Storage256 = df[(df.Price_Range==Price_Range) & (df.Storage==256)]\n",
    "    matplotlib.rcParams['figure.figsize'] = (15,10)\n",
    "    plt.scatter(Storage128.Processor_Speed,Storage128.memory_per_processor_cycle,color='blue',label='128 GB', s=50)\n",
    "    plt.scatter(Storage256.Processor_Speed,Storage256.memory_per_processor_cycle,marker='+', color='green',label='256 GB', s=50)\n",
    "    plt.xlabel(\"Processor Speed\")\n",
    "    plt.ylabel(\"Memory per cycle\")\n",
    "    plt.title(Price_Range)\n",
    "    plt.legend()\n",
    "    \n",
    "plot_scatter_chart(df8,\"Mid-Range\")"
   ]
  },
  {
   "cell_type": "code",
   "execution_count": 25,
   "id": "41ae4af2",
   "metadata": {},
   "outputs": [
    {
     "data": {
      "text/plain": [
       "Text(0, 0.5, 'Count')"
      ]
     },
     "execution_count": 25,
     "metadata": {},
     "output_type": "execute_result"
    },
    {
     "data": {
      "image/png": "[encoded data removed]",
      "text/plain": [
       "<Figure size 2000x1000 with 1 Axes>"
      ]
     },
     "metadata": {},
     "output_type": "display_data"
    }
   ],
   "source": [
    "import matplotlib\n",
    "matplotlib.rcParams[\"figure.figsize\"] = (20,10)\n",
    "plt.hist(df8.memory_per_processor_cycle,rwidth=0.8)\n",
    "plt.xlabel(\"Memory per Cycle\")\n",
    "plt.ylabel(\"Count\")"
   ]
  },
  {
   "cell_type": "markdown",
   "id": "9908ec90",
   "metadata": {},
   "source": [
    "# Outlier Removal Using RAM Feature"
   ]
  },
  {
   "cell_type": "code",
   "execution_count": 26,
   "id": "c368da01",
   "metadata": {},
   "outputs": [
    {
     "data": {
      "text/plain": [
       "array([ 4,  5,  6,  7,  8,  9, 10, 11, 12, 13, 14, 15, 16, 18],\n",
       "      dtype=int64)"
      ]
     },
     "execution_count": 26,
     "metadata": {},
     "output_type": "execute_result"
    }
   ],
   "source": [
    "df8.RAM.unique()"
   ]
  },
  {
   "cell_type": "code",
   "execution_count": 27,
   "id": "812552b1",
   "metadata": {},
   "outputs": [
    {
     "data": {
      "text/plain": [
       "(114821, 13)"
      ]
     },
     "execution_count": 27,
     "metadata": {},
     "output_type": "execute_result"
    }
   ],
   "source": [
    "df8.shape"
   ]
  },
  {
   "cell_type": "code",
   "execution_count": 28,
   "id": "475b876a",
   "metadata": {},
   "outputs": [
    {
     "data": {
      "text/html": [
       "<div>\n",
       "<style scoped>\n",
       "    .dataframe tbody tr th:only-of-type {\n",
       "        vertical-align: middle;\n",
       "    }\n",
       "\n",
       "    .dataframe tbody tr th {\n",
       "        vertical-align: top;\n",
       "    }\n",
       "\n",
       "    .dataframe thead th {\n",
       "        text-align: right;\n",
       "    }\n",
       "</style>\n",
       "<table border=\"1\" class=\"dataframe\">\n",
       "  <thead>\n",
       "    <tr style=\"text-align: right;\">\n",
       "      <th></th>\n",
       "      <th>RAM</th>\n",
       "      <th>Storage</th>\n",
       "      <th>Display</th>\n",
       "      <th>Camera</th>\n",
       "      <th>Battery</th>\n",
       "      <th>Screen-to-Body Ratio</th>\n",
       "      <th>Price_Range</th>\n",
       "      <th>Processor_Speed</th>\n",
       "      <th>Front_Camera</th>\n",
       "      <th>Battery_Life</th>\n",
       "      <th>Price</th>\n",
       "      <th>Phone_Company</th>\n",
       "      <th>memory_per_processor_cycle</th>\n",
       "    </tr>\n",
       "  </thead>\n",
       "  <tbody>\n",
       "    <tr>\n",
       "      <th>114815</th>\n",
       "      <td>16</td>\n",
       "      <td>128</td>\n",
       "      <td>5.8</td>\n",
       "      <td>54.0</td>\n",
       "      <td>4000.0</td>\n",
       "      <td>83.5</td>\n",
       "      <td>Mid-Range</td>\n",
       "      <td>2.476992</td>\n",
       "      <td>16.0</td>\n",
       "      <td>24.9</td>\n",
       "      <td>40397</td>\n",
       "      <td>Huawei</td>\n",
       "      <td>5.167558e+06</td>\n",
       "    </tr>\n",
       "    <tr>\n",
       "      <th>114816</th>\n",
       "      <td>16</td>\n",
       "      <td>256</td>\n",
       "      <td>6.5</td>\n",
       "      <td>36.0</td>\n",
       "      <td>3300.0</td>\n",
       "      <td>81.2</td>\n",
       "      <td>Budget</td>\n",
       "      <td>2.371063</td>\n",
       "      <td>8.0</td>\n",
       "      <td>16.9</td>\n",
       "      <td>40311</td>\n",
       "      <td>Oppo</td>\n",
       "      <td>1.079684e+07</td>\n",
       "    </tr>\n",
       "    <tr>\n",
       "      <th>114817</th>\n",
       "      <td>16</td>\n",
       "      <td>256</td>\n",
       "      <td>6.3</td>\n",
       "      <td>38.0</td>\n",
       "      <td>3300.0</td>\n",
       "      <td>81.6</td>\n",
       "      <td>Mid-Range</td>\n",
       "      <td>3.052886</td>\n",
       "      <td>5.0</td>\n",
       "      <td>26.1</td>\n",
       "      <td>39490</td>\n",
       "      <td>Vivo</td>\n",
       "      <td>8.385507e+06</td>\n",
       "    </tr>\n",
       "    <tr>\n",
       "      <th>114818</th>\n",
       "      <td>16</td>\n",
       "      <td>256</td>\n",
       "      <td>6.9</td>\n",
       "      <td>10.0</td>\n",
       "      <td>3000.0</td>\n",
       "      <td>95.4</td>\n",
       "      <td>Budget</td>\n",
       "      <td>3.133670</td>\n",
       "      <td>12.0</td>\n",
       "      <td>33.0</td>\n",
       "      <td>36419</td>\n",
       "      <td>Vivo</td>\n",
       "      <td>8.169335e+06</td>\n",
       "    </tr>\n",
       "    <tr>\n",
       "      <th>114819</th>\n",
       "      <td>18</td>\n",
       "      <td>256</td>\n",
       "      <td>5.6</td>\n",
       "      <td>26.0</td>\n",
       "      <td>4500.0</td>\n",
       "      <td>83.4</td>\n",
       "      <td>Budget</td>\n",
       "      <td>1.583883</td>\n",
       "      <td>12.0</td>\n",
       "      <td>31.4</td>\n",
       "      <td>49605</td>\n",
       "      <td>Vivo</td>\n",
       "      <td>1.616281e+07</td>\n",
       "    </tr>\n",
       "    <tr>\n",
       "      <th>114820</th>\n",
       "      <td>18</td>\n",
       "      <td>64</td>\n",
       "      <td>5.8</td>\n",
       "      <td>41.0</td>\n",
       "      <td>4500.0</td>\n",
       "      <td>81.1</td>\n",
       "      <td>Budget</td>\n",
       "      <td>3.472176</td>\n",
       "      <td>8.0</td>\n",
       "      <td>30.6</td>\n",
       "      <td>41157</td>\n",
       "      <td>Samsung</td>\n",
       "      <td>1.843225e+06</td>\n",
       "    </tr>\n",
       "  </tbody>\n",
       "</table>\n",
       "</div>"
      ],
      "text/plain": [
       "        RAM  Storage  Display  Camera  Battery  Screen-to-Body Ratio  \\\n",
       "114815   16      128      5.8    54.0   4000.0                  83.5   \n",
       "114816   16      256      6.5    36.0   3300.0                  81.2   \n",
       "114817   16      256      6.3    38.0   3300.0                  81.6   \n",
       "114818   16      256      6.9    10.0   3000.0                  95.4   \n",
       "114819   18      256      5.6    26.0   4500.0                  83.4   \n",
       "114820   18       64      5.8    41.0   4500.0                  81.1   \n",
       "\n",
       "       Price_Range  Processor_Speed  Front_Camera  Battery_Life  Price  \\\n",
       "114815   Mid-Range         2.476992          16.0          24.9  40397   \n",
       "114816      Budget         2.371063           8.0          16.9  40311   \n",
       "114817   Mid-Range         3.052886           5.0          26.1  39490   \n",
       "114818      Budget         3.133670          12.0          33.0  36419   \n",
       "114819      Budget         1.583883          12.0          31.4  49605   \n",
       "114820      Budget         3.472176           8.0          30.6  41157   \n",
       "\n",
       "       Phone_Company  memory_per_processor_cycle  \n",
       "114815        Huawei                5.167558e+06  \n",
       "114816          Oppo                1.079684e+07  \n",
       "114817          Vivo                8.385507e+06  \n",
       "114818          Vivo                8.169335e+06  \n",
       "114819          Vivo                1.616281e+07  \n",
       "114820       Samsung                1.843225e+06  "
      ]
     },
     "execution_count": 28,
     "metadata": {},
     "output_type": "execute_result"
    }
   ],
   "source": [
    "df8[df8.RAM>15]"
   ]
  },
  {
   "cell_type": "code",
   "execution_count": 29,
   "id": "f58bdf60",
   "metadata": {},
   "outputs": [
    {
     "data": {
      "text/plain": [
       "(114815, 13)"
      ]
     },
     "execution_count": 29,
     "metadata": {},
     "output_type": "execute_result"
    }
   ],
   "source": [
    "df9 = df8[df8.RAM<16]\n",
    "df9.shape"
   ]
  },
  {
   "cell_type": "code",
   "execution_count": 30,
   "id": "0be97047",
   "metadata": {},
   "outputs": [
    {
     "data": {
      "text/html": [
       "<div>\n",
       "<style scoped>\n",
       "    .dataframe tbody tr th:only-of-type {\n",
       "        vertical-align: middle;\n",
       "    }\n",
       "\n",
       "    .dataframe tbody tr th {\n",
       "        vertical-align: top;\n",
       "    }\n",
       "\n",
       "    .dataframe thead th {\n",
       "        text-align: right;\n",
       "    }\n",
       "</style>\n",
       "<table border=\"1\" class=\"dataframe\">\n",
       "  <thead>\n",
       "    <tr style=\"text-align: right;\">\n",
       "      <th></th>\n",
       "      <th>RAM</th>\n",
       "      <th>Storage</th>\n",
       "      <th>Display</th>\n",
       "      <th>Camera</th>\n",
       "      <th>Battery</th>\n",
       "      <th>Screen-to-Body Ratio</th>\n",
       "      <th>Processor_Speed</th>\n",
       "      <th>Front_Camera</th>\n",
       "      <th>Battery_Life</th>\n",
       "      <th>Price</th>\n",
       "      <th>Phone_Company</th>\n",
       "    </tr>\n",
       "  </thead>\n",
       "  <tbody>\n",
       "    <tr>\n",
       "      <th>0</th>\n",
       "      <td>4</td>\n",
       "      <td>128</td>\n",
       "      <td>5.6</td>\n",
       "      <td>25.0</td>\n",
       "      <td>5000.0</td>\n",
       "      <td>88.8</td>\n",
       "      <td>3.131432</td>\n",
       "      <td>12.0</td>\n",
       "      <td>34.2</td>\n",
       "      <td>46658</td>\n",
       "      <td>Xiaomi</td>\n",
       "    </tr>\n",
       "    <tr>\n",
       "      <th>1</th>\n",
       "      <td>4</td>\n",
       "      <td>32</td>\n",
       "      <td>6.8</td>\n",
       "      <td>51.0</td>\n",
       "      <td>3300.0</td>\n",
       "      <td>82.5</td>\n",
       "      <td>1.992469</td>\n",
       "      <td>12.0</td>\n",
       "      <td>20.6</td>\n",
       "      <td>29690</td>\n",
       "      <td>OnePlus</td>\n",
       "    </tr>\n",
       "    <tr>\n",
       "      <th>2</th>\n",
       "      <td>4</td>\n",
       "      <td>32</td>\n",
       "      <td>5.0</td>\n",
       "      <td>24.0</td>\n",
       "      <td>4500.0</td>\n",
       "      <td>91.3</td>\n",
       "      <td>2.903181</td>\n",
       "      <td>12.0</td>\n",
       "      <td>12.6</td>\n",
       "      <td>38718</td>\n",
       "      <td>Huawei</td>\n",
       "    </tr>\n",
       "  </tbody>\n",
       "</table>\n",
       "</div>"
      ],
      "text/plain": [
       "   RAM  Storage  Display  Camera  Battery  Screen-to-Body Ratio  \\\n",
       "0    4      128      5.6    25.0   5000.0                  88.8   \n",
       "1    4       32      6.8    51.0   3300.0                  82.5   \n",
       "2    4       32      5.0    24.0   4500.0                  91.3   \n",
       "\n",
       "   Processor_Speed  Front_Camera  Battery_Life  Price Phone_Company  \n",
       "0         3.131432          12.0          34.2  46658        Xiaomi  \n",
       "1         1.992469          12.0          20.6  29690       OnePlus  \n",
       "2         2.903181          12.0          12.6  38718        Huawei  "
      ]
     },
     "execution_count": 30,
     "metadata": {},
     "output_type": "execute_result"
    }
   ],
   "source": [
    "# After removal of outliers we will drop the Memory_per_Cycle field\n",
    "df10 = df9.drop(['Price_Range','memory_per_processor_cycle'],axis='columns')\n",
    "df10.head(3)"
   ]
  },
  {
   "cell_type": "markdown",
   "id": "356d60a7",
   "metadata": {},
   "source": [
    "# Model Building"
   ]
  },
  {
   "cell_type": "code",
   "execution_count": 31,
   "id": "3f39d313",
   "metadata": {},
   "outputs": [
    {
     "data": {
      "text/html": [
       "<div>\n",
       "<style scoped>\n",
       "    .dataframe tbody tr th:only-of-type {\n",
       "        vertical-align: middle;\n",
       "    }\n",
       "\n",
       "    .dataframe tbody tr th {\n",
       "        vertical-align: top;\n",
       "    }\n",
       "\n",
       "    .dataframe thead th {\n",
       "        text-align: right;\n",
       "    }\n",
       "</style>\n",
       "<table border=\"1\" class=\"dataframe\">\n",
       "  <thead>\n",
       "    <tr style=\"text-align: right;\">\n",
       "      <th></th>\n",
       "      <th>RAM</th>\n",
       "      <th>Storage</th>\n",
       "      <th>Display</th>\n",
       "      <th>Camera</th>\n",
       "      <th>Battery</th>\n",
       "      <th>Screen-to-Body Ratio</th>\n",
       "      <th>Processor_Speed</th>\n",
       "      <th>Front_Camera</th>\n",
       "      <th>Battery_Life</th>\n",
       "      <th>Phone_Company</th>\n",
       "    </tr>\n",
       "  </thead>\n",
       "  <tbody>\n",
       "    <tr>\n",
       "      <th>0</th>\n",
       "      <td>4</td>\n",
       "      <td>128</td>\n",
       "      <td>5.6</td>\n",
       "      <td>25.0</td>\n",
       "      <td>5000.0</td>\n",
       "      <td>88.8</td>\n",
       "      <td>3.131432</td>\n",
       "      <td>12.0</td>\n",
       "      <td>34.2</td>\n",
       "      <td>Xiaomi</td>\n",
       "    </tr>\n",
       "    <tr>\n",
       "      <th>1</th>\n",
       "      <td>4</td>\n",
       "      <td>32</td>\n",
       "      <td>6.8</td>\n",
       "      <td>51.0</td>\n",
       "      <td>3300.0</td>\n",
       "      <td>82.5</td>\n",
       "      <td>1.992469</td>\n",
       "      <td>12.0</td>\n",
       "      <td>20.6</td>\n",
       "      <td>OnePlus</td>\n",
       "    </tr>\n",
       "    <tr>\n",
       "      <th>2</th>\n",
       "      <td>4</td>\n",
       "      <td>32</td>\n",
       "      <td>5.0</td>\n",
       "      <td>24.0</td>\n",
       "      <td>4500.0</td>\n",
       "      <td>91.3</td>\n",
       "      <td>2.903181</td>\n",
       "      <td>12.0</td>\n",
       "      <td>12.6</td>\n",
       "      <td>Huawei</td>\n",
       "    </tr>\n",
       "    <tr>\n",
       "      <th>3</th>\n",
       "      <td>4</td>\n",
       "      <td>64</td>\n",
       "      <td>6.5</td>\n",
       "      <td>31.0</td>\n",
       "      <td>4000.0</td>\n",
       "      <td>91.9</td>\n",
       "      <td>2.679900</td>\n",
       "      <td>8.0</td>\n",
       "      <td>18.8</td>\n",
       "      <td>Google</td>\n",
       "    </tr>\n",
       "    <tr>\n",
       "      <th>4</th>\n",
       "      <td>4</td>\n",
       "      <td>128</td>\n",
       "      <td>5.5</td>\n",
       "      <td>31.0</td>\n",
       "      <td>4500.0</td>\n",
       "      <td>89.2</td>\n",
       "      <td>1.754605</td>\n",
       "      <td>5.0</td>\n",
       "      <td>22.4</td>\n",
       "      <td>Samsung</td>\n",
       "    </tr>\n",
       "  </tbody>\n",
       "</table>\n",
       "</div>"
      ],
      "text/plain": [
       "   RAM  Storage  Display  Camera  Battery  Screen-to-Body Ratio  \\\n",
       "0    4      128      5.6    25.0   5000.0                  88.8   \n",
       "1    4       32      6.8    51.0   3300.0                  82.5   \n",
       "2    4       32      5.0    24.0   4500.0                  91.3   \n",
       "3    4       64      6.5    31.0   4000.0                  91.9   \n",
       "4    4      128      5.5    31.0   4500.0                  89.2   \n",
       "\n",
       "   Processor_Speed  Front_Camera  Battery_Life Phone_Company  \n",
       "0         3.131432          12.0          34.2        Xiaomi  \n",
       "1         1.992469          12.0          20.6       OnePlus  \n",
       "2         2.903181          12.0          12.6        Huawei  \n",
       "3         2.679900           8.0          18.8        Google  \n",
       "4         1.754605           5.0          22.4       Samsung  "
      ]
     },
     "execution_count": 31,
     "metadata": {},
     "output_type": "execute_result"
    }
   ],
   "source": [
    "X = df10.drop('Price',axis='columns')\n",
    "X.head()"
   ]
  },
  {
   "cell_type": "code",
   "execution_count": 32,
   "id": "703a3370",
   "metadata": {},
   "outputs": [
    {
     "data": {
      "text/html": [
       "<div>\n",
       "<style scoped>\n",
       "    .dataframe tbody tr th:only-of-type {\n",
       "        vertical-align: middle;\n",
       "    }\n",
       "\n",
       "    .dataframe tbody tr th {\n",
       "        vertical-align: top;\n",
       "    }\n",
       "\n",
       "    .dataframe thead th {\n",
       "        text-align: right;\n",
       "    }\n",
       "</style>\n",
       "<table border=\"1\" class=\"dataframe\">\n",
       "  <thead>\n",
       "    <tr style=\"text-align: right;\">\n",
       "      <th></th>\n",
       "      <th>Google</th>\n",
       "      <th>Huawei</th>\n",
       "      <th>OnePlus</th>\n",
       "      <th>Oppo</th>\n",
       "      <th>Samsung</th>\n",
       "      <th>Sony</th>\n",
       "      <th>Vivo</th>\n",
       "      <th>Xiaomi</th>\n",
       "    </tr>\n",
       "  </thead>\n",
       "  <tbody>\n",
       "    <tr>\n",
       "      <th>0</th>\n",
       "      <td>False</td>\n",
       "      <td>False</td>\n",
       "      <td>False</td>\n",
       "      <td>False</td>\n",
       "      <td>False</td>\n",
       "      <td>False</td>\n",
       "      <td>False</td>\n",
       "      <td>True</td>\n",
       "    </tr>\n",
       "    <tr>\n",
       "      <th>1</th>\n",
       "      <td>False</td>\n",
       "      <td>False</td>\n",
       "      <td>True</td>\n",
       "      <td>False</td>\n",
       "      <td>False</td>\n",
       "      <td>False</td>\n",
       "      <td>False</td>\n",
       "      <td>False</td>\n",
       "    </tr>\n",
       "    <tr>\n",
       "      <th>2</th>\n",
       "      <td>False</td>\n",
       "      <td>True</td>\n",
       "      <td>False</td>\n",
       "      <td>False</td>\n",
       "      <td>False</td>\n",
       "      <td>False</td>\n",
       "      <td>False</td>\n",
       "      <td>False</td>\n",
       "    </tr>\n",
       "  </tbody>\n",
       "</table>\n",
       "</div>"
      ],
      "text/plain": [
       "   Google  Huawei  OnePlus   Oppo  Samsung   Sony   Vivo  Xiaomi\n",
       "0   False   False    False  False    False  False  False    True\n",
       "1   False   False     True  False    False  False  False   False\n",
       "2   False    True    False  False    False  False  False   False"
      ]
     },
     "execution_count": 32,
     "metadata": {},
     "output_type": "execute_result"
    }
   ],
   "source": [
    "y = df10.Price\n",
    "y.head()\n",
    "dummies=pd.get_dummies(df10.Phone_Company)\n",
    "dummies.head(3)\n"
   ]
  },
  {
   "cell_type": "code",
   "execution_count": 33,
   "id": "4d0df29c-0b3b-4ca0-9a02-230825f48873",
   "metadata": {},
   "outputs": [
    {
     "data": {
      "text/html": [
       "<div>\n",
       "<style scoped>\n",
       "    .dataframe tbody tr th:only-of-type {\n",
       "        vertical-align: middle;\n",
       "    }\n",
       "\n",
       "    .dataframe tbody tr th {\n",
       "        vertical-align: top;\n",
       "    }\n",
       "\n",
       "    .dataframe thead th {\n",
       "        text-align: right;\n",
       "    }\n",
       "</style>\n",
       "<table border=\"1\" class=\"dataframe\">\n",
       "  <thead>\n",
       "    <tr style=\"text-align: right;\">\n",
       "      <th></th>\n",
       "      <th>RAM</th>\n",
       "      <th>Storage</th>\n",
       "      <th>Display</th>\n",
       "      <th>Camera</th>\n",
       "      <th>Battery</th>\n",
       "      <th>Screen-to-Body Ratio</th>\n",
       "      <th>Processor_Speed</th>\n",
       "      <th>Front_Camera</th>\n",
       "      <th>Battery_Life</th>\n",
       "      <th>Price</th>\n",
       "      <th>Phone_Company</th>\n",
       "      <th>Google</th>\n",
       "      <th>Huawei</th>\n",
       "      <th>OnePlus</th>\n",
       "      <th>Oppo</th>\n",
       "      <th>Samsung</th>\n",
       "      <th>Sony</th>\n",
       "      <th>Vivo</th>\n",
       "      <th>Xiaomi</th>\n",
       "    </tr>\n",
       "  </thead>\n",
       "  <tbody>\n",
       "    <tr>\n",
       "      <th>0</th>\n",
       "      <td>4</td>\n",
       "      <td>128</td>\n",
       "      <td>5.6</td>\n",
       "      <td>25.0</td>\n",
       "      <td>5000.0</td>\n",
       "      <td>88.8</td>\n",
       "      <td>3.131432</td>\n",
       "      <td>12.0</td>\n",
       "      <td>34.2</td>\n",
       "      <td>46658</td>\n",
       "      <td>Xiaomi</td>\n",
       "      <td>False</td>\n",
       "      <td>False</td>\n",
       "      <td>False</td>\n",
       "      <td>False</td>\n",
       "      <td>False</td>\n",
       "      <td>False</td>\n",
       "      <td>False</td>\n",
       "      <td>True</td>\n",
       "    </tr>\n",
       "    <tr>\n",
       "      <th>1</th>\n",
       "      <td>4</td>\n",
       "      <td>32</td>\n",
       "      <td>6.8</td>\n",
       "      <td>51.0</td>\n",
       "      <td>3300.0</td>\n",
       "      <td>82.5</td>\n",
       "      <td>1.992469</td>\n",
       "      <td>12.0</td>\n",
       "      <td>20.6</td>\n",
       "      <td>29690</td>\n",
       "      <td>OnePlus</td>\n",
       "      <td>False</td>\n",
       "      <td>False</td>\n",
       "      <td>True</td>\n",
       "      <td>False</td>\n",
       "      <td>False</td>\n",
       "      <td>False</td>\n",
       "      <td>False</td>\n",
       "      <td>False</td>\n",
       "    </tr>\n",
       "    <tr>\n",
       "      <th>2</th>\n",
       "      <td>4</td>\n",
       "      <td>32</td>\n",
       "      <td>5.0</td>\n",
       "      <td>24.0</td>\n",
       "      <td>4500.0</td>\n",
       "      <td>91.3</td>\n",
       "      <td>2.903181</td>\n",
       "      <td>12.0</td>\n",
       "      <td>12.6</td>\n",
       "      <td>38718</td>\n",
       "      <td>Huawei</td>\n",
       "      <td>False</td>\n",
       "      <td>True</td>\n",
       "      <td>False</td>\n",
       "      <td>False</td>\n",
       "      <td>False</td>\n",
       "      <td>False</td>\n",
       "      <td>False</td>\n",
       "      <td>False</td>\n",
       "    </tr>\n",
       "  </tbody>\n",
       "</table>\n",
       "</div>"
      ],
      "text/plain": [
       "   RAM  Storage  Display  Camera  Battery  Screen-to-Body Ratio  \\\n",
       "0    4      128      5.6    25.0   5000.0                  88.8   \n",
       "1    4       32      6.8    51.0   3300.0                  82.5   \n",
       "2    4       32      5.0    24.0   4500.0                  91.3   \n",
       "\n",
       "   Processor_Speed  Front_Camera  Battery_Life  Price Phone_Company  Google  \\\n",
       "0         3.131432          12.0          34.2  46658        Xiaomi   False   \n",
       "1         1.992469          12.0          20.6  29690       OnePlus   False   \n",
       "2         2.903181          12.0          12.6  38718        Huawei   False   \n",
       "\n",
       "   Huawei  OnePlus   Oppo  Samsung   Sony   Vivo  Xiaomi  \n",
       "0   False    False  False    False  False  False    True  \n",
       "1   False     True  False    False  False  False   False  \n",
       "2    True    False  False    False  False  False   False  "
      ]
     },
     "execution_count": 33,
     "metadata": {},
     "output_type": "execute_result"
    }
   ],
   "source": [
    "df11=pd.concat([df10,dummies],axis='columns')\n",
    "df11.head(3)"
   ]
  },
  {
   "cell_type": "code",
   "execution_count": 34,
   "id": "8d5784c9-1801-4a39-a107-dbc08f4795d3",
   "metadata": {},
   "outputs": [
    {
     "data": {
      "text/html": [
       "<div>\n",
       "<style scoped>\n",
       "    .dataframe tbody tr th:only-of-type {\n",
       "        vertical-align: middle;\n",
       "    }\n",
       "\n",
       "    .dataframe tbody tr th {\n",
       "        vertical-align: top;\n",
       "    }\n",
       "\n",
       "    .dataframe thead th {\n",
       "        text-align: right;\n",
       "    }\n",
       "</style>\n",
       "<table border=\"1\" class=\"dataframe\">\n",
       "  <thead>\n",
       "    <tr style=\"text-align: right;\">\n",
       "      <th></th>\n",
       "      <th>RAM</th>\n",
       "      <th>Storage</th>\n",
       "      <th>Display</th>\n",
       "      <th>Camera</th>\n",
       "      <th>Battery</th>\n",
       "      <th>Screen-to-Body Ratio</th>\n",
       "      <th>Processor_Speed</th>\n",
       "      <th>Front_Camera</th>\n",
       "      <th>Battery_Life</th>\n",
       "      <th>Price</th>\n",
       "      <th>Google</th>\n",
       "      <th>Huawei</th>\n",
       "      <th>OnePlus</th>\n",
       "      <th>Oppo</th>\n",
       "      <th>Samsung</th>\n",
       "      <th>Sony</th>\n",
       "      <th>Vivo</th>\n",
       "      <th>Xiaomi</th>\n",
       "    </tr>\n",
       "  </thead>\n",
       "  <tbody>\n",
       "    <tr>\n",
       "      <th>0</th>\n",
       "      <td>4</td>\n",
       "      <td>128</td>\n",
       "      <td>5.6</td>\n",
       "      <td>25.0</td>\n",
       "      <td>5000.0</td>\n",
       "      <td>88.8</td>\n",
       "      <td>3.131432</td>\n",
       "      <td>12.0</td>\n",
       "      <td>34.2</td>\n",
       "      <td>46658</td>\n",
       "      <td>False</td>\n",
       "      <td>False</td>\n",
       "      <td>False</td>\n",
       "      <td>False</td>\n",
       "      <td>False</td>\n",
       "      <td>False</td>\n",
       "      <td>False</td>\n",
       "      <td>True</td>\n",
       "    </tr>\n",
       "    <tr>\n",
       "      <th>1</th>\n",
       "      <td>4</td>\n",
       "      <td>32</td>\n",
       "      <td>6.8</td>\n",
       "      <td>51.0</td>\n",
       "      <td>3300.0</td>\n",
       "      <td>82.5</td>\n",
       "      <td>1.992469</td>\n",
       "      <td>12.0</td>\n",
       "      <td>20.6</td>\n",
       "      <td>29690</td>\n",
       "      <td>False</td>\n",
       "      <td>False</td>\n",
       "      <td>True</td>\n",
       "      <td>False</td>\n",
       "      <td>False</td>\n",
       "      <td>False</td>\n",
       "      <td>False</td>\n",
       "      <td>False</td>\n",
       "    </tr>\n",
       "  </tbody>\n",
       "</table>\n",
       "</div>"
      ],
      "text/plain": [
       "   RAM  Storage  Display  Camera  Battery  Screen-to-Body Ratio  \\\n",
       "0    4      128      5.6    25.0   5000.0                  88.8   \n",
       "1    4       32      6.8    51.0   3300.0                  82.5   \n",
       "\n",
       "   Processor_Speed  Front_Camera  Battery_Life  Price  Google  Huawei  \\\n",
       "0         3.131432          12.0          34.2  46658   False   False   \n",
       "1         1.992469          12.0          20.6  29690   False   False   \n",
       "\n",
       "   OnePlus   Oppo  Samsung   Sony   Vivo  Xiaomi  \n",
       "0    False  False    False  False  False    True  \n",
       "1     True  False    False  False  False   False  "
      ]
     },
     "execution_count": 34,
     "metadata": {},
     "output_type": "execute_result"
    }
   ],
   "source": [
    "df12=df11.drop('Phone_Company',axis='columns')\n",
    "df12.head(2) "
   ]
  },
  {
   "cell_type": "code",
   "execution_count": 35,
   "id": "b507bf85-815a-4128-955a-9bb8869b4c3e",
   "metadata": {},
   "outputs": [
    {
     "data": {
      "text/html": [
       "<div>\n",
       "<style scoped>\n",
       "    .dataframe tbody tr th:only-of-type {\n",
       "        vertical-align: middle;\n",
       "    }\n",
       "\n",
       "    .dataframe tbody tr th {\n",
       "        vertical-align: top;\n",
       "    }\n",
       "\n",
       "    .dataframe thead th {\n",
       "        text-align: right;\n",
       "    }\n",
       "</style>\n",
       "<table border=\"1\" class=\"dataframe\">\n",
       "  <thead>\n",
       "    <tr style=\"text-align: right;\">\n",
       "      <th></th>\n",
       "      <th>RAM</th>\n",
       "      <th>Storage</th>\n",
       "      <th>Display</th>\n",
       "      <th>Camera</th>\n",
       "      <th>Battery</th>\n",
       "      <th>Screen-to-Body Ratio</th>\n",
       "      <th>Processor_Speed</th>\n",
       "      <th>Front_Camera</th>\n",
       "      <th>Battery_Life</th>\n",
       "      <th>Google</th>\n",
       "      <th>Huawei</th>\n",
       "      <th>OnePlus</th>\n",
       "      <th>Oppo</th>\n",
       "      <th>Samsung</th>\n",
       "      <th>Sony</th>\n",
       "      <th>Vivo</th>\n",
       "      <th>Xiaomi</th>\n",
       "    </tr>\n",
       "  </thead>\n",
       "  <tbody>\n",
       "    <tr>\n",
       "      <th>0</th>\n",
       "      <td>4</td>\n",
       "      <td>128</td>\n",
       "      <td>5.6</td>\n",
       "      <td>25.0</td>\n",
       "      <td>5000.0</td>\n",
       "      <td>88.8</td>\n",
       "      <td>3.131432</td>\n",
       "      <td>12.0</td>\n",
       "      <td>34.2</td>\n",
       "      <td>False</td>\n",
       "      <td>False</td>\n",
       "      <td>False</td>\n",
       "      <td>False</td>\n",
       "      <td>False</td>\n",
       "      <td>False</td>\n",
       "      <td>False</td>\n",
       "      <td>True</td>\n",
       "    </tr>\n",
       "    <tr>\n",
       "      <th>1</th>\n",
       "      <td>4</td>\n",
       "      <td>32</td>\n",
       "      <td>6.8</td>\n",
       "      <td>51.0</td>\n",
       "      <td>3300.0</td>\n",
       "      <td>82.5</td>\n",
       "      <td>1.992469</td>\n",
       "      <td>12.0</td>\n",
       "      <td>20.6</td>\n",
       "      <td>False</td>\n",
       "      <td>False</td>\n",
       "      <td>True</td>\n",
       "      <td>False</td>\n",
       "      <td>False</td>\n",
       "      <td>False</td>\n",
       "      <td>False</td>\n",
       "      <td>False</td>\n",
       "    </tr>\n",
       "    <tr>\n",
       "      <th>2</th>\n",
       "      <td>4</td>\n",
       "      <td>32</td>\n",
       "      <td>5.0</td>\n",
       "      <td>24.0</td>\n",
       "      <td>4500.0</td>\n",
       "      <td>91.3</td>\n",
       "      <td>2.903181</td>\n",
       "      <td>12.0</td>\n",
       "      <td>12.6</td>\n",
       "      <td>False</td>\n",
       "      <td>True</td>\n",
       "      <td>False</td>\n",
       "      <td>False</td>\n",
       "      <td>False</td>\n",
       "      <td>False</td>\n",
       "      <td>False</td>\n",
       "      <td>False</td>\n",
       "    </tr>\n",
       "  </tbody>\n",
       "</table>\n",
       "</div>"
      ],
      "text/plain": [
       "   RAM  Storage  Display  Camera  Battery  Screen-to-Body Ratio  \\\n",
       "0    4      128      5.6    25.0   5000.0                  88.8   \n",
       "1    4       32      6.8    51.0   3300.0                  82.5   \n",
       "2    4       32      5.0    24.0   4500.0                  91.3   \n",
       "\n",
       "   Processor_Speed  Front_Camera  Battery_Life  Google  Huawei  OnePlus  \\\n",
       "0         3.131432          12.0          34.2   False   False    False   \n",
       "1         1.992469          12.0          20.6   False   False     True   \n",
       "2         2.903181          12.0          12.6   False    True    False   \n",
       "\n",
       "    Oppo  Samsung   Sony   Vivo  Xiaomi  \n",
       "0  False    False  False  False    True  \n",
       "1  False    False  False  False   False  \n",
       "2  False    False  False  False   False  "
      ]
     },
     "execution_count": 35,
     "metadata": {},
     "output_type": "execute_result"
    }
   ],
   "source": [
    "X = df12.drop(['Price'],axis='columns')\n",
    "X.head(3)"
   ]
  },
  {
   "cell_type": "code",
   "execution_count": 36,
   "id": "6ebe6870-b079-484e-b79e-eb1c9eb58891",
   "metadata": {},
   "outputs": [
    {
     "data": {
      "text/plain": [
       "0    46658\n",
       "1    29690\n",
       "2    38718\n",
       "Name: Price, dtype: int64"
      ]
     },
     "execution_count": 36,
     "metadata": {},
     "output_type": "execute_result"
    }
   ],
   "source": [
    "y = df12.Price\n",
    "y.head(3)"
   ]
  },
  {
   "cell_type": "code",
   "execution_count": 37,
   "id": "0656707a",
   "metadata": {},
   "outputs": [],
   "source": [
    "from sklearn.model_selection import train_test_split\n",
    "X_train, X_test, y_train, y_test = train_test_split(X,y,test_size=0.2,random_state=10)"
   ]
  },
  {
   "cell_type": "code",
   "execution_count": 38,
   "id": "88ea52d9",
   "metadata": {},
   "outputs": [
    {
     "data": {
      "text/plain": [
       "0.999708553633615"
      ]
     },
     "execution_count": 38,
     "metadata": {},
     "output_type": "execute_result"
    }
   ],
   "source": [
    "# Linear Regression\n",
    "from sklearn.linear_model import LinearRegression\n",
    "\n",
    "lr_clf = LinearRegression()\n",
    "lr_clf.fit(X_train,y_train)\n",
    "lr_clf.score(X_test,y_test)"
   ]
  },
  {
   "cell_type": "markdown",
   "id": "73c8c1eb",
   "metadata": {},
   "source": [
    "# Using k fold cross validation to measure accuracy "
   ]
  },
  {
   "cell_type": "code",
   "execution_count": 39,
   "id": "1f10af53",
   "metadata": {},
   "outputs": [
    {
     "data": {
      "text/plain": [
       "array([0.99971186, 0.99970975, 0.99970917, 0.99971027, 0.99970767])"
      ]
     },
     "execution_count": 39,
     "metadata": {},
     "output_type": "execute_result"
    }
   ],
   "source": [
    "from sklearn.model_selection import ShuffleSplit\n",
    "from sklearn.model_selection import cross_val_score\n",
    "\n",
    "cv = ShuffleSplit(n_splits=5, test_size=0.2, random_state=0)\n",
    "\n",
    "cross_val_score(LinearRegression(), X, y, cv=cv)"
   ]
  },
  {
   "cell_type": "code",
   "execution_count": 40,
   "id": "748e6f7e-4374-4410-9e3d-0a3554af1561",
   "metadata": {},
   "outputs": [
    {
     "name": "stdout",
     "output_type": "stream",
     "text": [
      "Requirement already satisfied: scikit-learn in c:\\python312\\lib\\site-packages (1.4.1.post1)\n",
      "Requirement already satisfied: numpy<2.0,>=1.19.5 in c:\\python312\\lib\\site-packages (from scikit-learn) (1.26.4)\n",
      "Requirement already satisfied: scipy>=1.6.0 in c:\\python312\\lib\\site-packages (from scikit-learn) (1.12.0)\n",
      "Requirement already satisfied: joblib>=1.2.0 in c:\\python312\\lib\\site-packages (from scikit-learn) (1.3.2)\n",
      "Requirement already satisfied: threadpoolctl>=2.0.0 in c:\\python312\\lib\\site-packages (from scikit-learn) (3.3.0)\n",
      "Note: you may need to restart the kernel to use updated packages.\n"
     ]
    }
   ],
   "source": [
    "pip install scikit-learn"
   ]
  },
  {
   "cell_type": "markdown",
   "id": "af2dc56f",
   "metadata": {},
   "source": [
    "# Find best model using GridSearchCV"
   ]
  },
  {
   "cell_type": "code",
   "execution_count": 41,
   "id": "ee232f66",
   "metadata": {},
   "outputs": [
    {
     "name": "stderr",
     "output_type": "stream",
     "text": [
      "C:\\Python312\\Lib\\site-packages\\sklearn\\model_selection\\_validation.py:547: FitFailedWarning: \n",
      "10 fits failed out of a total of 20.\n",
      "The score on these train-test partitions for these parameters will be set to nan.\n",
      "If these failures are not expected, you can try to debug them by setting error_score='raise'.\n",
      "\n",
      "Below are more details about the failures:\n",
      "--------------------------------------------------------------------------------\n",
      "10 fits failed with the following error:\n",
      "Traceback (most recent call last):\n",
      "  File \"C:\\Python312\\Lib\\site-packages\\sklearn\\model_selection\\_validation.py\", line 895, in _fit_and_score\n",
      "    estimator.fit(X_train, y_train, **fit_params)\n",
      "  File \"C:\\Python312\\Lib\\site-packages\\sklearn\\base.py\", line 1467, in wrapper\n",
      "    estimator._validate_params()\n",
      "  File \"C:\\Python312\\Lib\\site-packages\\sklearn\\base.py\", line 666, in _validate_params\n",
      "    validate_parameter_constraints(\n",
      "  File \"C:\\Python312\\Lib\\site-packages\\sklearn\\utils\\_param_validation.py\", line 95, in validate_parameter_constraints\n",
      "    raise InvalidParameterError(\n",
      "sklearn.utils._param_validation.InvalidParameterError: The 'criterion' parameter of DecisionTreeRegressor must be a str among {'absolute_error', 'poisson', 'friedman_mse', 'squared_error'}. Got 'mse' instead.\n",
      "\n",
      "  warnings.warn(some_fits_failed_message, FitFailedWarning)\n",
      "C:\\Python312\\Lib\\site-packages\\sklearn\\model_selection\\_search.py:1051: UserWarning: One or more of the test scores are non-finite: [       nan        nan 0.99936861 0.99934112]\n",
      "  warnings.warn(\n"
     ]
    },
    {
     "data": {
      "text/html": [
       "<div>\n",
       "<style scoped>\n",
       "    .dataframe tbody tr th:only-of-type {\n",
       "        vertical-align: middle;\n",
       "    }\n",
       "\n",
       "    .dataframe tbody tr th {\n",
       "        vertical-align: top;\n",
       "    }\n",
       "\n",
       "    .dataframe thead th {\n",
       "        text-align: right;\n",
       "    }\n",
       "</style>\n",
       "<table border=\"1\" class=\"dataframe\">\n",
       "  <thead>\n",
       "    <tr style=\"text-align: right;\">\n",
       "      <th></th>\n",
       "      <th>model</th>\n",
       "      <th>best_score</th>\n",
       "      <th>best_params</th>\n",
       "    </tr>\n",
       "  </thead>\n",
       "  <tbody>\n",
       "    <tr>\n",
       "      <th>0</th>\n",
       "      <td>lasso</td>\n",
       "      <td>0.999710</td>\n",
       "      <td>{'alpha': 1, 'selection': 'cyclic'}</td>\n",
       "    </tr>\n",
       "    <tr>\n",
       "      <th>1</th>\n",
       "      <td>decision_tree</td>\n",
       "      <td>0.999369</td>\n",
       "      <td>{'criterion': 'friedman_mse', 'splitter': 'best'}</td>\n",
       "    </tr>\n",
       "  </tbody>\n",
       "</table>\n",
       "</div>"
      ],
      "text/plain": [
       "           model  best_score  \\\n",
       "0          lasso    0.999710   \n",
       "1  decision_tree    0.999369   \n",
       "\n",
       "                                         best_params  \n",
       "0                {'alpha': 1, 'selection': 'cyclic'}  \n",
       "1  {'criterion': 'friedman_mse', 'splitter': 'best'}  "
      ]
     },
     "execution_count": 41,
     "metadata": {},
     "output_type": "execute_result"
    }
   ],
   "source": [
    "\n",
    "\n",
    "from sklearn.model_selection import GridSearchCV\n",
    "from sklearn.linear_model import Lasso\n",
    "from sklearn.tree import DecisionTreeRegressor\n",
    "\n",
    "def find_best_model_using_gridsearchcv(X, y):\n",
    "    algos = {\n",
    "        \n",
    "        'lasso': {\n",
    "            'model': Lasso(),\n",
    "            'params': {\n",
    "                'alpha': [1, 2],\n",
    "                'selection': ['random', 'cyclic']\n",
    "            }\n",
    "        },\n",
    "        'decision_tree': {\n",
    "            'model': DecisionTreeRegressor(),\n",
    "            'params': {\n",
    "                'criterion': ['mse', 'friedman_mse'],\n",
    "                'splitter': ['best', 'random']\n",
    "            }\n",
    "        }\n",
    "    }\n",
    "    scores = []\n",
    "    cv = ShuffleSplit(n_splits=5, test_size=0.2, random_state=0)\n",
    "    for algo_name, config in algos.items():\n",
    "        gs = GridSearchCV(config['model'], config['params'], cv=cv, return_train_score=False)\n",
    "        gs.fit(X, y)\n",
    "        scores.append({\n",
    "            'model': algo_name,\n",
    "            'best_score': gs.best_score_,\n",
    "            'best_params': gs.best_params_\n",
    "        })\n",
    "\n",
    "    return pd.DataFrame(scores, columns=['model', 'best_score', 'best_params'])\n",
    "\n",
    "find_best_model_using_gridsearchcv(X, y)\n"
   ]
  },
  {
   "cell_type": "code",
   "execution_count": 42,
   "id": "95a85eca",
   "metadata": {},
   "outputs": [],
   "source": [
    "# Since all give almost same score, we can use any model for our predictions.\n",
    "# All are equally accurate"
   ]
  },
  {
   "cell_type": "code",
   "execution_count": 50,
   "id": "e4ef071e",
   "metadata": {},
   "outputs": [],
   "source": [
    "def predict_price(Phone_Company,Ram,Storage,Display):    \n",
    "    loc_index = np.where(X.columns==Phone_Company)[0][0]\n",
    "\n",
    "    x = np.zeros(len(X.columns))\n",
    "    x[0] = Ram\n",
    "    x[1] = Storage\n",
    "    x[2] = Display\n",
    "    if loc_index >= 0:\n",
    "        x[loc_index] = 1\n",
    "\n",
    "    return lr_clf.predict([x])[0]"
   ]
  },
  {
   "cell_type": "code",
   "execution_count": 51,
   "id": "fc8a908a",
   "metadata": {},
   "outputs": [
    {
     "name": "stderr",
     "output_type": "stream",
     "text": [
      "C:\\Python312\\Lib\\site-packages\\sklearn\\base.py:493: UserWarning: X does not have valid feature names, but LinearRegression was fitted with feature names\n",
      "  warnings.warn(\n"
     ]
    },
    {
     "data": {
      "text/plain": [
       "8151.725560665248"
      ]
     },
     "execution_count": 51,
     "metadata": {},
     "output_type": "execute_result"
    }
   ],
   "source": [
    "predict_price('Huawei',16, 128, 5.8)"
   ]
  },
  {
   "cell_type": "code",
   "execution_count": 52,
   "id": "fe30fbd3-9464-4c83-8207-37257c21796a",
   "metadata": {},
   "outputs": [
    {
     "name": "stderr",
     "output_type": "stream",
     "text": [
      "C:\\Python312\\Lib\\site-packages\\sklearn\\base.py:493: UserWarning: X does not have valid feature names, but LinearRegression was fitted with feature names\n",
      "  warnings.warn(\n"
     ]
    },
    {
     "data": {
      "text/plain": [
       "13369.665878531674"
      ]
     },
     "execution_count": 52,
     "metadata": {},
     "output_type": "execute_result"
    }
   ],
   "source": [
    "predict_price('Oppo',16, 256, 7)"
   ]
  },
  {
   "cell_type": "code",
   "execution_count": null,
   "id": "c4bdfeab-84c1-427a-b89e-3550d0fc6c64",
   "metadata": {},
   "outputs": [],
   "source": []
  }
 ],
 "metadata": {
  "kernelspec": {
   "display_name": "Python 3 (ipykernel)",
   "language": "python",
   "name": "python3"
  },
  "language_info": {
   "codemirror_mode": {
    "name": "ipython",
    "version": 3
   },
   "file_extension": ".py",
   "mimetype": "text/x-python",
   "name": "python",
   "nbconvert_exporter": "python",
   "pygments_lexer": "ipython3",
   "version": "3.12.2"
  }
 },
 "nbformat": 4,
 "nbformat_minor": 5
}
